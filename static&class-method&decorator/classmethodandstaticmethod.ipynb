{
  "nbformat": 4,
  "nbformat_minor": 0,
  "metadata": {
    "colab": {
      "provenance": [],
      "collapsed_sections": []
    },
    "kernelspec": {
      "name": "python3",
      "display_name": "Python 3"
    },
    "language_info": {
      "name": "python"
    }
  },
  "cells": [
    {
      "cell_type": "markdown",
      "source": [
        "*Author: Mehmet SOLAK* <br>\n",
        "*Date: 11.3.2022*"
      ],
      "metadata": {
        "id": "D0XtgbWwtcq0"
      }
    },
    {
      "cell_type": "markdown",
      "source": [
        "# 1. Staticmethod ve Classmethod "
      ],
      "metadata": {
        "id": "7ZUKsTNltOQ6"
      }
    },
    {
      "cell_type": "code",
      "source": [
        "class Personel:\n",
        "  def __init__(self, name, surname, age):\n",
        "    self.name = name \n",
        "    self.surname = surname\n",
        "    self.age = age\n",
        "\n",
        "  def Yazdir(self):\n",
        "    return f\"Name: {self.name} Surname: {self.surname} Age: {self.age}\""
      ],
      "metadata": {
        "id": "Y9QPhueUYNwQ"
      },
      "execution_count": null,
      "outputs": []
    },
    {
      "cell_type": "markdown",
      "source": [
        "  Personel Class'i Olusturuldu. <br>\n",
        "  Yazdir Fonksiyonu Yaratildi."
      ],
      "metadata": {
        "id": "UVklIIW5Ygbe"
      }
    },
    {
      "cell_type": "code",
      "source": [
        "p1 = Personel(\"Mehmet\", \"SOLAK\", 19)\n",
        "print(p1.Yazdir())"
      ],
      "metadata": {
        "colab": {
          "base_uri": "https://localhost:8080/",
          "height": 35
        },
        "id": "VfihbwR6Yl6G",
        "outputId": "0b74ae66-b203-495a-afeb-12fd336377da"
      },
      "execution_count": null,
      "outputs": [
        {
          "output_type": "execute_result",
          "data": {
            "text/plain": [
              "'Name: Mehmet Surname: SOLAK Age: 19'"
            ],
            "application/vnd.google.colaboratory.intrinsic+json": {
              "type": "string"
            }
          },
          "metadata": {},
          "execution_count": 5
        }
      ]
    },
    {
      "cell_type": "markdown",
      "source": [
        "p1 Personelinin Atamasi yapildi ve Bilgileri ekrana yazdirildi."
      ],
      "metadata": {
        "id": "0Iq72CkKY0Lh"
      }
    },
    {
      "cell_type": "code",
      "source": [
        "from datetime import date\n",
        "\n",
        "class Ogrenci:\n",
        "  dogum_yili:int = 0\n",
        "  def __init__(self, isim, soyisim, dogum_yili, sinif, okul_numarasi):\n",
        "    self.isim = isim\n",
        "    self.soyisim = soyisim\n",
        "    self.dogum_yili = dogum_yili\n",
        "    self.sinif = sinif\n",
        "    self.okul_numarasi = okul_numarasi\n",
        "\n",
        "  def Yazdir(self):\n",
        "    return f\"{self.isim} {self.soyisim} {self.dogum_yili} {self.sinif} {self.okul_numarasi} Yas: {date.today().year - int(self.dogum_yili)}\"\n",
        "\n",
        "  @classmethod\n",
        "  def BilgiAl(cls, degerler):\n",
        "    isim, soyisim, dogum_yili, sinif, okul_numarasi = degerler.split(\"-\")\n",
        "    return cls(isim, soyisim, dogum_yili, sinif, okul_numarasi) # return Ogrenci(isim, soyisim, dogum_yili, sinif, okul_numarasi)"
      ],
      "metadata": {
        "id": "UrxW3yHFDUtH"
      },
      "execution_count": null,
      "outputs": []
    },
    {
      "cell_type": "code",
      "source": [
        "ogr_1 = Ogrenci(\"Dogukan\", \"AKSOY\", 2001, \"2\", \"20217170050\")\n",
        "print(ogr_1.Yazdir())\n",
        "ogr_2 = Ogrenci.BilgiAl(\"Mehmet-SOLAK-2003-2-20217170022\")\n",
        "print(ogr_2.Yazdir())\n"
      ],
      "metadata": {
        "colab": {
          "base_uri": "https://localhost:8080/"
        },
        "id": "ee1So3ALEXBy",
        "outputId": "e08d65c7-b346-4389-bfcf-4e5e449f5102"
      },
      "execution_count": null,
      "outputs": [
        {
          "output_type": "stream",
          "name": "stdout",
          "text": [
            "Dogukan AKSOY 2001 2 20217170050 Yas: 21\n",
            "Mehmet SOLAK 2003 2 20217170022 Yas: 19\n"
          ]
        }
      ]
    },
    {
      "cell_type": "markdown",
      "source": [
        "Ogrenci class'i olusturuldu. `BilgiAl` methodu artik bir class method. Parametre olarak kendisini (Var olan class) alir. Sinifla ilgili tum bilgilere sahiptir. `ogr_1` direkt olarak initialize edilirken `ogr_2` BilgiAl fonksiyonu araciligi ile initialize edilir. `return cls()` ile Ogrenci sinifina degerleri gonderdik ve bu degerleri yazdirdik."
      ],
      "metadata": {
        "id": "p5L2fQW8IKKF"
      }
    },
    {
      "cell_type": "code",
      "source": [
        "class PersonelClass:\n",
        "  def __init__(self, isim, soyisim, personel_no):\n",
        "    self.isim = isim\n",
        "    self.soyisim = soyisim\n",
        "    self.personel_no = personel_no\n",
        "\n",
        "  def Yazdir(self):\n",
        "    return f\"{self.isim} {self.soyisim} {self.personel_no}\"\n",
        "\n",
        "  @classmethod\n",
        "  def BilgiAl(cls, degerler):\n",
        "    isim, soyisim, personel_no = degerler.split(\",\")\n",
        "    return cls(isim, soyisim, personel_no) # return Personel(isim, soyisim, personel_no)"
      ],
      "metadata": {
        "id": "fPGuN8g_Hmsa"
      },
      "execution_count": null,
      "outputs": []
    },
    {
      "cell_type": "code",
      "source": [
        "p2 = PersonelClass.BilgiAl(\"Mehmet,SOLAK,1234\")\n",
        "print(p2.Yazdir())"
      ],
      "metadata": {
        "colab": {
          "base_uri": "https://localhost:8080/"
        },
        "id": "i0vqRGlvJudQ",
        "outputId": "9931509b-348a-4524-e07e-a4dac63eaf1e"
      },
      "execution_count": null,
      "outputs": [
        {
          "output_type": "stream",
          "name": "stdout",
          "text": [
            "Mehmet SOLAK 1234\n"
          ]
        }
      ]
    },
    {
      "cell_type": "markdown",
      "source": [
        "classmethod() bir nesne yerine bir sinifa baglidir. BilgiAl methoduna gonderdigimiz bilgiler PersonelClass sinifina baglandi."
      ],
      "metadata": {
        "id": "PyaqR5XcJ__9"
      }
    },
    {
      "cell_type": "code",
      "source": [
        "class Sinif:\n",
        "  isim:str = \" \"\n",
        "  def __init__(self, isim, yas):\n",
        "    self.isim = isim\n",
        "    self.yas = yas\n",
        "\n",
        "  @classmethod\n",
        "  def Yazdir(cls):\n",
        "    return cls.isim, cls.yas"
      ],
      "metadata": {
        "id": "YNzj_PQ0K0p2"
      },
      "execution_count": null,
      "outputs": []
    },
    {
      "cell_type": "code",
      "source": [
        "print(Sinif.Yazdir())"
      ],
      "metadata": {
        "colab": {
          "base_uri": "https://localhost:8080/",
          "height": 253
        },
        "id": "w8n7sX18LGx0",
        "outputId": "11009c2e-ff8e-47c1-e3e1-b2ffebc6a12f"
      },
      "execution_count": null,
      "outputs": [
        {
          "output_type": "error",
          "ename": "AttributeError",
          "evalue": "ignored",
          "traceback": [
            "\u001b[0;31m---------------------------------------------------------------------------\u001b[0m",
            "\u001b[0;31mAttributeError\u001b[0m                            Traceback (most recent call last)",
            "\u001b[0;32m<ipython-input-5-05d229bc5bd7>\u001b[0m in \u001b[0;36m<module>\u001b[0;34m\u001b[0m\n\u001b[0;32m----> 1\u001b[0;31m \u001b[0mprint\u001b[0m\u001b[0;34m(\u001b[0m\u001b[0mSinif\u001b[0m\u001b[0;34m.\u001b[0m\u001b[0mYazdir\u001b[0m\u001b[0;34m(\u001b[0m\u001b[0;34m)\u001b[0m\u001b[0;34m)\u001b[0m\u001b[0;34m\u001b[0m\u001b[0;34m\u001b[0m\u001b[0m\n\u001b[0m",
            "\u001b[0;32m<ipython-input-4-c2397d9b16cc>\u001b[0m in \u001b[0;36mYazdir\u001b[0;34m(cls)\u001b[0m\n\u001b[1;32m      7\u001b[0m   \u001b[0;34m@\u001b[0m\u001b[0mclassmethod\u001b[0m\u001b[0;34m\u001b[0m\u001b[0;34m\u001b[0m\u001b[0m\n\u001b[1;32m      8\u001b[0m   \u001b[0;32mdef\u001b[0m \u001b[0mYazdir\u001b[0m\u001b[0;34m(\u001b[0m\u001b[0mcls\u001b[0m\u001b[0;34m)\u001b[0m\u001b[0;34m:\u001b[0m\u001b[0;34m\u001b[0m\u001b[0;34m\u001b[0m\u001b[0m\n\u001b[0;32m----> 9\u001b[0;31m     \u001b[0;32mreturn\u001b[0m \u001b[0mcls\u001b[0m\u001b[0;34m.\u001b[0m\u001b[0misim\u001b[0m\u001b[0;34m,\u001b[0m \u001b[0mcls\u001b[0m\u001b[0;34m.\u001b[0m\u001b[0myas\u001b[0m\u001b[0;34m\u001b[0m\u001b[0;34m\u001b[0m\u001b[0m\n\u001b[0m",
            "\u001b[0;31mAttributeError\u001b[0m: type object 'Sinif' has no attribute 'yas'"
          ]
        }
      ]
    },
    {
      "cell_type": "markdown",
      "source": [
        "`isim` degiskeni `class variable` oldugu icin herhangi bir problem yaratmazken `yas` degiskeni `instance value` oldugu icin hata aldik. "
      ],
      "metadata": {
        "id": "MD5izDg4LLN-"
      }
    },
    {
      "cell_type": "code",
      "source": [
        "class Sinif2:\n",
        "  isim:str = \" \"\n",
        "  yas:int = 0\n",
        "  def __init__(self, isim, yas):\n",
        "    self.isim = isim\n",
        "    self.yas = yas\n",
        "  \n",
        "  @classmethod\n",
        "  def Yazdir(cls):\n",
        "    return cls.isim, cls.yas"
      ],
      "metadata": {
        "id": "R5XjXiKlLYVA"
      },
      "execution_count": null,
      "outputs": []
    },
    {
      "cell_type": "code",
      "source": [
        "s2_1 = Sinif2(\"Mehmet\", 19)\n",
        "print(Sinif2.Yazdir())"
      ],
      "metadata": {
        "colab": {
          "base_uri": "https://localhost:8080/"
        },
        "id": "29IWk6dPLqFf",
        "outputId": "8089b205-e4f3-4c74-d353-72b8f8135acb"
      },
      "execution_count": null,
      "outputs": [
        {
          "output_type": "stream",
          "name": "stdout",
          "text": [
            "(' ', 0)\n"
          ]
        }
      ]
    },
    {
      "cell_type": "markdown",
      "source": [
        "`isim` ve `yas` artik bir `class variable` haline geldi. Hata almadik ve kodumuz calisti."
      ],
      "metadata": {
        "id": "CaQQdNVHLtbc"
      }
    },
    {
      "cell_type": "code",
      "source": [
        "class Sinif3:\n",
        "  isim:str = str()\n",
        "  yas:int = int()\n",
        "  def __init__(self, isim, yas):\n",
        "    self.isim = isim\n",
        "    self.yas = yas\n",
        "\n",
        "  @classmethod\n",
        "  def Yazdir(cls, y_isim, y_yas):\n",
        "    return cls(y_isim, y_yas) # return Sinif3(y_isim, y_yas)\n",
        "  \n",
        "  def Display(self):\n",
        "    return f\"{self.isim} {self.yas}\""
      ],
      "metadata": {
        "id": "j2W_EcD9M9Ul"
      },
      "execution_count": null,
      "outputs": []
    },
    {
      "cell_type": "code",
      "source": [
        "s3_1 = Sinif3.Yazdir(\"Mehmet\", 19)\n",
        "s3_1.Display()"
      ],
      "metadata": {
        "colab": {
          "base_uri": "https://localhost:8080/",
          "height": 35
        },
        "id": "oHne7D5DNapD",
        "outputId": "8af8159f-4515-42b8-ffe4-98312aafb2e9"
      },
      "execution_count": null,
      "outputs": [
        {
          "output_type": "execute_result",
          "data": {
            "text/plain": [
              "'Mehmet 19'"
            ],
            "application/vnd.google.colaboratory.intrinsic+json": {
              "type": "string"
            }
          },
          "metadata": {},
          "execution_count": 13
        }
      ]
    },
    {
      "cell_type": "markdown",
      "source": [
        "`Statik metotlar`, kendisini çağıran sınıf veya örnek hakkında herhangi bir bilgiye sahip değildir. Bunlar, işlevini kaybetmeden, sınıf dışında da aynı şekilde tanımlanabilir. Sınıf metotları ise, otomatik olarak, kendisini çağıran sınıfa veya örneğin sınıfına bir referans alır."
      ],
      "metadata": {
        "id": "T2O3btHTQU4Z"
      }
    },
    {
      "cell_type": "code",
      "source": [
        "class ToplamVergi:\n",
        "  def __init__(self, num1, num2):\n",
        "    self.num1 = num1\n",
        "    self.num2 = num2\n",
        "\n",
        "  def Hesapla(self):\n",
        "    return (self.num1 + self.num2) * ToplamVergi.Dondur()\n",
        "\n",
        "  @staticmethod\n",
        "  def Dondur():\n",
        "    return 0.18"
      ],
      "metadata": {
        "id": "aIkCJXYtO8hM"
      },
      "execution_count": null,
      "outputs": []
    },
    {
      "cell_type": "code",
      "source": [
        "tv_1 = ToplamVergi(10,20)\n",
        "print(tv_1.Hesapla())"
      ],
      "metadata": {
        "colab": {
          "base_uri": "https://localhost:8080/"
        },
        "id": "p8JUF6PbQB5_",
        "outputId": "f7f22359-1eed-4179-ecd3-49c421c913be"
      },
      "execution_count": null,
      "outputs": [
        {
          "output_type": "stream",
          "name": "stdout",
          "text": [
            "5.3999999999999995\n"
          ]
        }
      ]
    },
    {
      "cell_type": "code",
      "source": [
        "class Customer:\n",
        "  def __init__(self, isim, soyisim, yas, customer_no):\n",
        "    self.isim = isim\n",
        "    self.soyisim = soyisim\n",
        "    self.yas = yas\n",
        "    self.customer_no = customer_no\n",
        "\n",
        "  @property\n",
        "  def Yazdir(self):\n",
        "    print(f\"Ad : {self.isim} Soyad : {self.soyisim} Yas : {self.yas} Numara : {self.customer_no}\")\n",
        "  \n",
        "  @Yazdir.setter\n",
        "  def IsimDegistir(self, y_isim):\n",
        "    self.isim = y_isim\n",
        "\n",
        "  @classmethod\n",
        "  def CustomerGonder(cls, degerler):\n",
        "    isim, soyisim, yas, customer_no = degerler.split(\",\")\n",
        "    return cls(isim, soyisim, yas, customer_no)"
      ],
      "metadata": {
        "id": "nJ6dP8iwjL8I"
      },
      "execution_count": 74,
      "outputs": []
    },
    {
      "cell_type": "code",
      "source": [
        "c1 = Customer(\"Mehmet\", \"SOLAK\", 19, 22)"
      ],
      "metadata": {
        "id": "B50GncuCkkDZ"
      },
      "execution_count": 89,
      "outputs": []
    },
    {
      "cell_type": "code",
      "source": [
        "c1.Yazdir"
      ],
      "metadata": {
        "colab": {
          "base_uri": "https://localhost:8080/"
        },
        "id": "AaIJb_Kuk1tS",
        "outputId": "f20cc67d-e238-4abd-8254-d50481764a78"
      },
      "execution_count": 86,
      "outputs": [
        {
          "output_type": "stream",
          "name": "stdout",
          "text": [
            "Ad : Mehmet Soyad : SOLAK Yas : 19 Numara : 22\n"
          ]
        }
      ]
    },
    {
      "cell_type": "code",
      "source": [
        "c1.IsimDegistir = \"Ali\""
      ],
      "metadata": {
        "id": "FUAbyX3Kk12J"
      },
      "execution_count": 91,
      "outputs": []
    },
    {
      "cell_type": "code",
      "source": [
        "c1.Yazdir"
      ],
      "metadata": {
        "colab": {
          "base_uri": "https://localhost:8080/"
        },
        "id": "yeuWy5fIlAVi",
        "outputId": "835c9661-e7bd-419e-b2f6-a8899e763b92"
      },
      "execution_count": 92,
      "outputs": [
        {
          "output_type": "stream",
          "name": "stdout",
          "text": [
            "Ad : Ali Soyad : SOLAK Yas : 19 Numara : 22\n"
          ]
        }
      ]
    },
    {
      "cell_type": "code",
      "source": [
        "c2 = Customer.CustomerGonder(\"Dogukan, AKSOY, 20, 50\")"
      ],
      "metadata": {
        "id": "82zaO2fMlDTk"
      },
      "execution_count": 93,
      "outputs": []
    },
    {
      "cell_type": "code",
      "source": [
        "c2.Yazdir"
      ],
      "metadata": {
        "colab": {
          "base_uri": "https://localhost:8080/"
        },
        "id": "dah2ussCpP-V",
        "outputId": "f2d3e93c-31b7-4289-ed09-7c4cfc73c6e2"
      },
      "execution_count": 94,
      "outputs": [
        {
          "output_type": "stream",
          "name": "stdout",
          "text": [
            "Ad : Dogukan Soyad :  AKSOY Yas :  20 Numara :  50\n"
          ]
        }
      ]
    },
    {
      "cell_type": "markdown",
      "source": [
        "# 2. **Decorator Yaratma**\n",
        "\n"
      ],
      "metadata": {
        "id": "96fFnWv4pzeX"
      }
    },
    {
      "cell_type": "code",
      "source": [
        "def Decorator(fonk):\n",
        "  def wrapper():\n",
        "    print(\"*-\"*25)\n",
        "    fonk()\n",
        "    print(\"*-\"*25)\n",
        "  return wrapper"
      ],
      "metadata": {
        "id": "ymiafOmDp7Vj"
      },
      "execution_count": 97,
      "outputs": []
    },
    {
      "cell_type": "code",
      "source": [
        "def Fonk1():\n",
        "  print(\"Hello, World!\")"
      ],
      "metadata": {
        "id": "YbpEFcjzqPt0"
      },
      "execution_count": 98,
      "outputs": []
    },
    {
      "cell_type": "code",
      "source": [
        "yazdir_fonk = Decorator(Fonk1)\n",
        "yazdir_fonk()"
      ],
      "metadata": {
        "colab": {
          "base_uri": "https://localhost:8080/"
        },
        "id": "7ZjAn5avqcB6",
        "outputId": "151471e6-4498-4f19-f343-aad91458d390"
      },
      "execution_count": 101,
      "outputs": [
        {
          "output_type": "stream",
          "name": "stdout",
          "text": [
            "*-*-*-*-*-*-*-*-*-*-*-*-*-*-*-*-*-*-*-*-*-*-*-*-*-\n",
            "Hello, World!\n",
            "*-*-*-*-*-*-*-*-*-*-*-*-*-*-*-*-*-*-*-*-*-*-*-*-*-\n"
          ]
        }
      ]
    },
    {
      "cell_type": "code",
      "source": [
        "class Dec:\n",
        "  def __init__(self):\n",
        "    pass\n",
        "  \n",
        "  def Decorator(func):\n",
        "    def wrapper(self):\n",
        "      print(\"*-\"*25)\n",
        "      func(self)\n",
        "      print(\"*-\"*25)\n",
        "    return wrapper\n",
        "\n",
        "  @Decorator\n",
        "  def Yazdir(self):\n",
        "    print(\"Merhaba, Dunya!\")"
      ],
      "metadata": {
        "id": "IdalkpuEq5wK"
      },
      "execution_count": 106,
      "outputs": []
    },
    {
      "cell_type": "code",
      "source": [
        "d1 = Dec()\n",
        "d1.Yazdir()"
      ],
      "metadata": {
        "colab": {
          "base_uri": "https://localhost:8080/"
        },
        "id": "DNZkTM52rEVz",
        "outputId": "f98ddf6b-4d3b-4526-8852-66dc46ee0389"
      },
      "execution_count": 107,
      "outputs": [
        {
          "output_type": "stream",
          "name": "stdout",
          "text": [
            "*-*-*-*-*-*-*-*-*-*-*-*-*-*-*-*-*-*-*-*-*-*-*-*-*-\n",
            "Merhaba, Dunya!\n",
            "*-*-*-*-*-*-*-*-*-*-*-*-*-*-*-*-*-*-*-*-*-*-*-*-*-\n"
          ]
        }
      ]
    },
    {
      "cell_type": "code",
      "source": [
        "class YazdirDec:\n",
        "  def __init__(self, isim, soyisim):\n",
        "    self.isim = isim\n",
        "    self.soyisim = soyisim\n",
        "\n",
        "  def Decorator(func):\n",
        "    def wrapper(self):\n",
        "      print(\"-*\"*25)\n",
        "      func(self)\n",
        "      print(\"*-\"*25)\n",
        "    return wrapper\n",
        "\n",
        "  @Decorator\n",
        "  def Yazdir(self):\n",
        "    print(f\"{self.isim} {self.soyisim}\")"
      ],
      "metadata": {
        "id": "BTmXugY9sTAr"
      },
      "execution_count": 108,
      "outputs": []
    },
    {
      "cell_type": "code",
      "source": [
        "yd1 = YazdirDec(\"Mustafa\", \"APIKEK\")\n",
        "yd1.Yazdir()"
      ],
      "metadata": {
        "colab": {
          "base_uri": "https://localhost:8080/"
        },
        "id": "F0-qTUTnsnZm",
        "outputId": "aea1f4bb-3448-442c-d87e-eea79792128d"
      },
      "execution_count": 109,
      "outputs": [
        {
          "output_type": "stream",
          "name": "stdout",
          "text": [
            "-*-*-*-*-*-*-*-*-*-*-*-*-*-*-*-*-*-*-*-*-*-*-*-*-*\n",
            "Mustafa APIKEK\n",
            "*-*-*-*-*-*-*-*-*-*-*-*-*-*-*-*-*-*-*-*-*-*-*-*-*-\n"
          ]
        }
      ]
    }
  ]
}