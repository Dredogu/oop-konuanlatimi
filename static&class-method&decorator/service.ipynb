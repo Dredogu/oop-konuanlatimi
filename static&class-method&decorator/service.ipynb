{
  "cells": [
    {
      "cell_type": "markdown",
      "metadata": {
        "id": "iBls5sQDAhPo"
      },
      "source": [
        "Bu egitimde her bir method blogu teker teker anlatilmistir. Programi test etmek icin service.py ve main.py dosyalarini inceleyin ve calistirin. Burada yapicaginiz herhangi bir `run` islemi basarisiz olucaktir. Bloklar teker teker acliklanmis her bir degiskenin amaci belirtilmistir.\n",
        "\n",
        "`Author` : `Mehmet SOLAK`"
      ]
    },
    {
      "cell_type": "code",
      "execution_count": 12,
      "metadata": {
        "id": "59mP13nBzPCP"
      },
      "outputs": [],
      "source": [
        "from datetime import date "
      ]
    },
    {
      "cell_type": "markdown",
      "metadata": {
        "id": "sl_Cdsv7ztcr"
      },
      "source": [
        "`datetime` Modulu yardimiyla bugunun tarihini yazdirabiliriz. Bundan dolayi `datetime` Modulunu cagiriyoruz."
      ]
    },
    {
      "cell_type": "code",
      "execution_count": 13,
      "metadata": {
        "id": "d1Npraeez9Y3"
      },
      "outputs": [],
      "source": [
        "class Service:\n",
        "\n",
        "  # iscilik_orani ve servis_adi adi altinda class variable's tanimliyoruz.\n",
        "\n",
        "  iscilik_orani:int = 0\n",
        "  servis_adi:str = \" \"\n",
        "\n",
        "  price_list = {\n",
        "        \"yag\":400,\n",
        "        \"yag_filtresi\":75,\n",
        "        \"hava_filtresi\":110,\n",
        "        \"polen_filtresi\":60,\n",
        "        \"yikama\":50,\n",
        "        \"motor_temizligi\":100,\n",
        "        \"buji\":600,\n",
        "        \"aku\":1500,\n",
        "        \"balata\":750,\n",
        "        \"disk\":1600,\n",
        "        \"triger\":1250,\n",
        "    }"
      ]
    },
    {
      "cell_type": "markdown",
      "metadata": {
        "id": "CVkBZcn71XtJ"
      },
      "source": [
        "`Service` adi altinda `class` olusturuyoruz. `price_list` adi altinda bir adet sozluk olusturduk, tamirleri ve fiyatlarinin atamasini yaptik. \n",
        "<br>\n",
        "<br>\n",
        "\n",
        "Ayni zamanda `iscilik_orani` ve `servis_adi` adi altinda iki adet `class variable` olusturduk. Bunlar soruda belirtilmisti."
      ]
    },
    {
      "cell_type": "code",
      "execution_count": 14,
      "metadata": {
        "id": "1OiM6yO312KG"
      },
      "outputs": [],
      "source": [
        "def __init__(self, plate_no:str, name_surname:str, work_list=[]) -> None:\n",
        "  self.plate_no = plate_no\n",
        "  self._name_surname = name_surname\n",
        "  self.work_list = work_list\n",
        "  self.toplam_fiyat = 0.0"
      ]
    },
    {
      "cell_type": "markdown",
      "metadata": {
        "id": "a39tZFDs2vFy"
      },
      "source": [
        "`self.toplam_fiyat` adi altinda degisken olusturuyoruz ve bu degiskeni 0.0'a esitliyoruz. Bu sekilde degiskenimizin tipi `float` oluyor. <br>\n",
        "\n",
        "`self._name_surname` ile `name_surname` degiskenini tutuyoruz. Basinda `_` olmasinin sebebi var olan bir metod ile cakismamasi."
      ]
    },
    {
      "cell_type": "code",
      "execution_count": 15,
      "metadata": {
        "id": "jzipv7Uq3LDA"
      },
      "outputs": [],
      "source": [
        "@classmethod # Service turunde bir ornek dondurebilmek icin @classmethod kullanmaliyiz.\n",
        "def onbin(cls, plate_no:str, name_surname:str, work_list=[]):\n",
        "  work_list = [\"yag\", \"yag_filtresi\", \"hava_filtresi\", \"polen_filtresi\", \"yikama\"]\n",
        "  return cls(plate_no, name_surname, work_list) # return Service(plate_no, name_surname, work_list) anlamina gelmektedir. Yani Service turunde bir ornek donduruyoruz.\n",
        "\n",
        "@classmethod\n",
        "def yirmibin(cls, plate_no:str, name_surname:str, work_list=[]):\n",
        "  work_list = [\"motor_temizligi\", \"balata\", \"disk\",\"yag\",\"yag_filtresi\",\"hava_filtresi\",\"polen_filtresi\",\"yikama\"]\n",
        "  return cls(plate_no, name_surname, work_list)\n",
        "\n",
        "@classmethod\n",
        "def otuzbin(cls, plate_no:str, name_surname:str, work_list=[]):\n",
        "  work_list = [\"motor_temizligi\",\"balata\",\"disk\",\"yag\",\"yag_filtresi\",\"hava_filtresi\",\"polen_filtresi\",\"yikama\"]\n",
        "  return cls(plate_no, name_surname, work_list)"
      ]
    },
    {
      "cell_type": "markdown",
      "metadata": {
        "id": "Wbop9uNH4GlR"
      },
      "source": [
        "`Service` Eger `onbin`'lik ise `onbin` metodu araciligi ile Service turunde bir ornek dondurecektir. Initialize edildikten sonra islemlere devam edicektir. Bu sekilde `classmethod`'larimizin atamasini gerceklestirdik. Servis turune gore `class`'imiz calisicaktir ve bu ture gore degerler dondurecektir."
      ]
    },
    {
      "cell_type": "code",
      "execution_count": 16,
      "metadata": {
        "id": "mKOjezpP4lgz"
      },
      "outputs": [],
      "source": [
        "@property # property dekoratoru araciligiyla bir adet getter fonksiyonu olusturuyoruz.\n",
        "def name_surname(self) -> str:\n",
        "  \"\"\"name_surname getter\"\"\"\n",
        "  return Service.anonymize(self._name_surname) "
      ]
    },
    {
      "cell_type": "markdown",
      "metadata": {
        "id": "cRrhTA2f5A4K"
      },
      "source": [
        "`anonymize` staticmetoduna isim ve soyismimizi gonderiyoruz. `self._name_surname` yerine `self.name_surname` kullansaydik bu fonksiyon problem cikartabilirdi. Bu sekilde isim benzerligini onlemis olduk."
      ]
    },
    {
      "cell_type": "code",
      "execution_count": 17,
      "metadata": {
        "id": "Kczcf5CG5QXi"
      },
      "outputs": [],
      "source": [
        "@name_surname.setter # name_surname getter icin bir adet setter olusturuyoruz.\n",
        "def name_surname(self, value:str) -> None:\n",
        "  self._name_surname = value.split(\" \") # split belirttigimiz ayiraca gore karakter dizilerini boler."
      ]
    },
    {
      "cell_type": "code",
      "execution_count": 18,
      "metadata": {
        "id": "Aw17W6Tl5r72"
      },
      "outputs": [],
      "source": [
        "@classmethod\n",
        "def set_workmanship_rate(cls, workmanship_rate:float) -> None:\n",
        "  cls.iscilik_orani = workmanship_rate "
      ]
    },
    {
      "cell_type": "markdown",
      "metadata": {
        "id": "XcPRscaD57nP"
      },
      "source": [
        "class variable olan `iscilik_orani` degiskenimizi burada `workmanship_rate` degiskenine esitliyoruz. Bu sayede orani belirlemis olduk."
      ]
    },
    {
      "cell_type": "code",
      "execution_count": 19,
      "metadata": {
        "id": "w75-J-8h6DLp"
      },
      "outputs": [],
      "source": [
        "@classmethod\n",
        "def set_service_name(cls, service_name) -> None:\n",
        "  cls.servis_adi = service_name"
      ]
    },
    {
      "cell_type": "markdown",
      "metadata": {
        "id": "qW1Of0XR6MIC"
      },
      "source": [
        "class variable olan `servis_adi` degiskenimizi burada `service_name` degiskenine esitliyoruz."
      ]
    },
    {
      "cell_type": "code",
      "execution_count": 20,
      "metadata": {
        "id": "HU1IPfnw6Trb"
      },
      "outputs": [],
      "source": [
        "def do_worklist(self):\n",
        "  for index in self.work_list:\n",
        "    self.toplam_fiyat += Service.price_list[index]\n",
        "    self.toplam_fiyat += Service.price_list[index] * Service.iscilik_orani"
      ]
    },
    {
      "cell_type": "markdown",
      "metadata": {
        "id": "N10lCWSN6k9S"
      },
      "source": [
        "`for` dongusu araciligiyla `work_list` icerisinde dolasiyoruz ve `index` degiskeni icerisine `0`. indexten baslayip sirasiyla work_list'de bulunan degerleri atiyoruz ve `price_list` icerisinde sirasiyla bu `index`'in aramasini gerceklestirip karsiligina denk gelen fiyati `toplam_fiyat`'a ekliyoruz. Ayrica bu fiyati `iscilik_orani` ile carpip yeniden bir ekleme islemi gerceklestiriyoruz."
      ]
    },
    {
      "cell_type": "code",
      "execution_count": 21,
      "metadata": {
        "id": "lsXad_hd7Gbx"
      },
      "outputs": [],
      "source": [
        "def print(self) -> None:\n",
        "  print(\"-\"*20)\n",
        "  print(f\"{self.plate_no}-{self.name_surname}-{date.today()}\")\n",
        "  for i in self.work_list:\n",
        "    print(f\"*{i},{Service.price_list[i]}tl,{Service.price_list[i] * Service.iscilik_orani}tl\")\n",
        "  print(f\"Iscilik Orani:{Service.iscilik_orani}\")\n",
        "  print(f\"Toplam:{self.toplam_fiyat}tl\")\n",
        "  print(f\"Servis:{Service.servis_adi}\")\n",
        "  print(\"-\"*20)"
      ]
    },
    {
      "cell_type": "markdown",
      "metadata": {
        "id": "baIElCft7uWo"
      },
      "source": [
        "`print` metodu ile degerleri ekrana yazdiriyoruz. Ayni sekilde `for` dongusu ile `work_list` listesi icerisinde dolasiyoruz ve sirasiyla `i` yani sirasiyla yapilan her islemi, islemin fiyatini ve fiyatin iscilik_orani ile carpim sonucunu yazdiriyoruz."
      ]
    },
    {
      "cell_type": "code",
      "execution_count": 22,
      "metadata": {
        "id": "dwHkbS138lIC"
      },
      "outputs": [],
      "source": [
        "@staticmethod\n",
        "def anonymize(_in) -> str:\n",
        "  name, surname = _in.split(\" \")\n",
        "  name = f\"{name[0:3]}***\"\n",
        "  surname = f\"{surname[0:3]}***\"\n",
        "  return f\"{name} {surname}\""
      ]
    },
    {
      "cell_type": "markdown",
      "metadata": {
        "id": "RYbfc_Jw80Xv"
      },
      "source": [
        "`anonymize` staticmethod'u araciligiyla isimlere gerekli islemleri uyguladik. ismin ve soyismin sadece ilk uc harfini `[0:3]` bu yontem ile yazdirdik."
      ]
    }
  ],
  "metadata": {
    "colab": {
      "collapsed_sections": [],
      "provenance": []
    },
    "kernelspec": {
      "display_name": "Python 3.10.8 64-bit",
      "language": "python",
      "name": "python3"
    },
    "language_info": {
      "codemirror_mode": {
        "name": "ipython",
        "version": 3
      },
      "file_extension": ".py",
      "mimetype": "text/x-python",
      "name": "python",
      "nbconvert_exporter": "python",
      "pygments_lexer": "ipython3",
      "version": "3.10.8"
    },
    "vscode": {
      "interpreter": {
        "hash": "aee8b7b246df8f9039afb4144a1f6fd8d2ca17a180786b69acc140d282b71a49"
      }
    }
  },
  "nbformat": 4,
  "nbformat_minor": 0
}
